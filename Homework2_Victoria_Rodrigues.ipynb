{
  "nbformat": 4,
  "nbformat_minor": 0,
  "metadata": {
    "kernelspec": {
      "display_name": "Python 3",
      "language": "python",
      "name": "python3"
    },
    "language_info": {
      "codemirror_mode": {
        "name": "ipython",
        "version": 3
      },
      "file_extension": ".py",
      "mimetype": "text/x-python",
      "name": "python",
      "nbconvert_exporter": "python",
      "pygments_lexer": "ipython3",
      "version": "3.7.4"
    },
    "colab": {
      "name": "Homework2_Victoria Rodrigues.ipynb",
      "provenance": [],
      "collapsed_sections": [],
      "toc_visible": true,
      "include_colab_link": true
    }
  },
  "cells": [
    {
      "cell_type": "markdown",
      "metadata": {
        "id": "view-in-github",
        "colab_type": "text"
      },
      "source": [
        "<a href=\"https://colab.research.google.com/github/victoriaribeiro/homework02/blob/master/Homework2_Victoria_Rodrigues.ipynb\" target=\"_parent\"><img src=\"https://colab.research.google.com/assets/colab-badge.svg\" alt=\"Open In Colab\"/></a>"
      ]
    },
    {
      "cell_type": "markdown",
      "metadata": {
        "id": "bWAPSQpxJIQ8",
        "colab_type": "text"
      },
      "source": [
        "# HomeWork 2"
      ]
    },
    {
      "cell_type": "markdown",
      "metadata": {
        "id": "IqBYDjlBJIQ-",
        "colab_type": "text"
      },
      "source": [
        "## Problem 1\n",
        "\n",
        "Consider i.i.d. data samples $\\mathbf{X}=\\left\\{x_i\\right\\}^N_{i=1}$. Suppose that the data samples are drawn from a Poisson distribution with parameter $\\lambda$. The Poisson distribution takes the form: $$p\\left(x\\mid\\lambda\\right)=\\frac{\\lambda^xe^{-\\lambda}}{x!}$$."
      ]
    },
    {
      "cell_type": "markdown",
      "metadata": {
        "id": "_4oknm6tJIQ_",
        "colab_type": "text"
      },
      "source": [
        "### 1. Find the MLE estimate for the parameter  𝜆  assuming a Poisson data likelihood."
      ]
    },
    {
      "cell_type": "markdown",
      "metadata": {
        "id": "6_n4ngjKJIRA",
        "colab_type": "text"
      },
      "source": [
        "The data likelihood function is: \n",
        "$$P(\\mathbf{X}|\\lambda) = \\prod_{n=1}^N P(\\mathbf{x}_n|\\mathbf{\\lambda}) = \\prod_{n=1}^N \\frac{\\lambda^{x_n}e^{-\\lambda}}{x_n!}$$\n",
        "\n",
        "We then apply the log function to our data likelihood. We can call it the log-likelihood function:\n",
        "\n",
        "$$\\mathcal{L} = \\ln\\left(\\prod_{n=1}^N P(\\mathbf{x}_n|\\mathbf{\\lambda})\\right)$$\n",
        "\n",
        "$$ \\mathcal{L} = \\ln\\left(\\prod_{n=1}^N \\frac{\\lambda^{x_n}e^{-\\lambda}}{x_n!}\\right) $$\n",
        "\n",
        "$$ \\mathcal{L} = \\sum_{n=1}^{N} \\left ( \\ln( e^{-\\lambda}) - \\ln(x_n!)) + \\ln (\\lambda^{x_j} )  \\right ) $$\n",
        "\n",
        "$$ \\mathcal{L} = \\sum_{n=1}^{N} \\left ( -\\lambda - \\ln(x_n!) + x_j\\ln (\\lambda )  \\right )$$\n",
        "\n",
        "$$ \\mathcal{L} = -N\\lambda - \\sum_{n=1}^{N}  \\ln(x_n!) + \\ln(\\lambda)\\sum_{n=1}^{N} x_n $$\n",
        "\n",
        "We want to find:\n",
        "$$ \\hat{\\lambda} = arg_\\lambda max \\mathcal{L}$$\n",
        "\n",
        "So we take the first derivative with respect to $\\lambda$ and equal it to $0$:\n",
        "\n",
        "$$ \\frac{\\partial  }{\\partial \\lambda} \\left  (-N\\lambda - \\sum_{n=1}^{N}  \\ln(x_j!) + \\ln(\\lambda)\\sum_{n=1}^{N} x_j\\right ) = 0 $$\n",
        "\n",
        "Finally\n",
        "$$\\hat{\\lambda} = \\frac{1}{N} \\sum_{n=1}^{N} x_j = \\frac{X}{N}$$\n",
        "\n",
        "\n"
      ]
    },
    {
      "cell_type": "markdown",
      "metadata": {
        "id": "iGhzTpqjJIRB",
        "colab_type": "text"
      },
      "source": [
        "### 2. Assuming a Gamma distribution as the prior distribution on the parameter $\\lambda$, find the MAP estimate for the parameter $\\lambda$. The Gamma distribution takes the form $p(\\lambda|\\alpha,\\beta) = \\frac{\\beta^{\\alpha}}{\\Gamma(\\alpha)}\\lambda^{\\alpha-1}e^{-\\beta\\lambda}$."
      ]
    },
    {
      "cell_type": "markdown",
      "metadata": {
        "id": "0WZ-J26QJIRC",
        "colab_type": "text"
      },
      "source": [
        "![alt text](https://drive.google.com/uc?id=1POWfIH0W8nMI6nv5X20yahMg9MpyPqhm)\n"
      ]
    },
    {
      "cell_type": "markdown",
      "metadata": {
        "id": "jj8I1lppJIRD",
        "colab_type": "text"
      },
      "source": [
        "## Problem 2"
      ]
    },
    {
      "cell_type": "markdown",
      "metadata": {
        "id": "sp1QN8KwJIRE",
        "colab_type": "text"
      },
      "source": [
        "### 1. Implement the probabilistic generative classifier, under the assumption that your data likelihood model $p(x|C_j)$ is a multivariate Gaussian and the prior probabilities $p(C_j)$ are dictated by the number of samples $n_j\\in\\mathbb{R}$ that you have for each class. This classifier is given by comparing the posterior probability for each class $C_j$. We assume that each class $C_j$ can have an arbitrary mean $\\mu_j\\in\\mathbb{R}^{d\\times 1}$ and an arbitrary full covariance matrix $\\Sigma_j\\in\\mathbb{R}^{d\\times d}$. Both of these quantities are to be estimated from the observations in each class."
      ]
    },
    {
      "cell_type": "code",
      "metadata": {
        "id": "u1NJBBZ6JIRF",
        "colab_type": "code",
        "colab": {}
      },
      "source": [
        "import pandas as pd\n",
        "import numpy as np\n",
        "import matplotlib.pyplot as plt\n",
        "%matplotlib inline\n",
        "from scipy.stats import multivariate_normal\n",
        "\n",
        "data = pd.read_csv(\"crab.txt\", delimiter=\"\\t\")\n",
        "data = (data - data.mean())/ data.std()\n",
        "data.Species = data.Species.round()\n",
        "data.head()\n",
        "\n",
        "training = data[:140]\n",
        "test = data[140:]\n",
        "\n",
        "\n",
        "class0X = training.loc[training['Species'] == -1].drop('Species', axis=1)\n",
        "class1X = training.loc[training['Species'] == 1].drop('Species', axis=1)\n",
        "\n",
        "class0Y = training.loc[training['Species'] == -1]['Species']\n",
        "class1Y = training.loc[training['Species'] == 1]['Species']\n",
        "\n",
        "training_data = training.drop('Species', axis=1)\n",
        "test_data = test.drop('Species', axis=1)\n",
        "test_true = test['Species']\n",
        "training_labels = training['Species']\n",
        "\n"
      ],
      "execution_count": 0,
      "outputs": []
    },
    {
      "cell_type": "code",
      "metadata": {
        "id": "cmKqEJnuJIRQ",
        "colab_type": "code",
        "colab": {}
      },
      "source": [
        "mu0 = np.mean(class0X)\n",
        "\n",
        "cov0 = class0X.cov()\n",
        "\n",
        "mu1 = np.mean(class1X)\n",
        "cov1 = class1X.cov()\n",
        "\n",
        "pC0 = len(class0Y.index) / len(training.index)\n",
        "pC1 = len(class1Y.index) / len(training.index)"
      ],
      "execution_count": 0,
      "outputs": []
    },
    {
      "cell_type": "code",
      "metadata": {
        "id": "u21gkxo_-DUT",
        "colab_type": "code",
        "colab": {}
      },
      "source": [
        "def confusion_matrix_(true, pred):\n",
        "  true = np.where(true==-1, 0, true) \n",
        "  pred = np.where(pred==-1, 0, pred) \n",
        "\n",
        "  classes = np.unique(pred).size\n",
        "  cm = np.bincount(true * classes + pred).reshape((classes, classes))\n",
        "  return cm\n"
      ],
      "execution_count": 0,
      "outputs": []
    },
    {
      "cell_type": "code",
      "metadata": {
        "id": "MDqbUAMVJIRT",
        "colab_type": "code",
        "outputId": "9d5c43b9-643f-4614-b4d2-157918622b8b",
        "colab": {
          "base_uri": "https://localhost:8080/",
          "height": 316
        }
      },
      "source": [
        "import seaborn as sn\n",
        "\n",
        "var = multivariate_normal(mean=mu0, cov=cov0, allow_singular=True)\n",
        "y0 = var.pdf(test_data)\n",
        "\n",
        "var = multivariate_normal(mean=mu1, cov=cov1, allow_singular=True)\n",
        "y1 = var.pdf(test_data)\n",
        "\n",
        "\n",
        "pos0 = (y0*pC0)/(y1*pC1 + y0*pC0)\n",
        "pos1 = (y1*pC1)/(y1*pC1 + y0*pC0)\n",
        "\n",
        "pred = []\n",
        "for t0, t1 in zip(pos0, pos1):\n",
        "    if(t0>t1):\n",
        "        pred.append(-1)\n",
        "    else:\n",
        "        pred.append(1)\n",
        "\n",
        "cm = confusion_matrix_(test_true.to_numpy().astype(int), np.asarray(pred))\n",
        "sn.heatmap(cm,  annot=True)\n",
        "plt.title('Test Data Confusion Matrix')\n",
        "cm"
      ],
      "execution_count": 4,
      "outputs": [
        {
          "output_type": "execute_result",
          "data": {
            "text/plain": [
              "array([[28,  0],\n",
              "       [ 0, 32]])"
            ]
          },
          "metadata": {
            "tags": []
          },
          "execution_count": 4
        },
        {
          "output_type": "display_data",
          "data": {
            "image/png": "[encoded data removed]",
            "text/plain": [
              "<Figure size 432x288 with 2 Axes>"
            ]
          },
          "metadata": {
            "tags": []
          }
        }
      ]
    },
    {
      "cell_type": "code",
      "metadata": {
        "id": "TraSC8lZLOyz",
        "colab_type": "code",
        "colab": {
          "base_uri": "https://localhost:8080/",
          "height": 316
        },
        "outputId": "294a3020-8228-4c11-904b-6baf92b85614"
      },
      "source": [
        "\n",
        "var = multivariate_normal(mean=mu0, cov=cov0, allow_singular=True)\n",
        "y0 = var.pdf(training_data)\n",
        "\n",
        "var = multivariate_normal(mean=mu1, cov=cov1, allow_singular=True)\n",
        "y1 = var.pdf(training_data)\n",
        "\n",
        "\n",
        "pos0 = (y0*pC0)/(y1*pC1 + y0*pC0)\n",
        "pos1 = (y1*pC1)/(y1*pC1 + y0*pC0)\n",
        "\n",
        "pred = []\n",
        "for t0, t1 in zip(pos0, pos1):\n",
        "    if(t0>t1):\n",
        "        pred.append(-1)\n",
        "    else:\n",
        "        pred.append(1)\n",
        "\n",
        "cm = confusion_matrix_(training_labels.to_numpy().astype(int), np.asarray(pred))\n",
        "sn.heatmap(cm,  annot=True)\n",
        "plt.title('Training Data Confusion Matrix')\n",
        "cm"
      ],
      "execution_count": 5,
      "outputs": [
        {
          "output_type": "execute_result",
          "data": {
            "text/plain": [
              "array([[72,  0],\n",
              "       [ 0, 68]])"
            ]
          },
          "metadata": {
            "tags": []
          },
          "execution_count": 5
        },
        {
          "output_type": "display_data",
          "data": {
            "image/png": "[encoded data removed]",
            "text/plain": [
              "<Figure size 432x288 with 2 Axes>"
            ]
          },
          "metadata": {
            "tags": []
          }
        }
      ]
    },
    {
      "cell_type": "markdown",
      "metadata": {
        "id": "wU9urYA6_06O",
        "colab_type": "text"
      },
      "source": [
        "## I did not encounter any major problems while implementing the probabilistic generative model."
      ]
    },
    {
      "cell_type": "markdown",
      "metadata": {
        "id": "Ml4zgyqrJIRW",
        "colab_type": "text"
      },
      "source": [
        "## 2.4 $k$-Nearest Neighbor"
      ]
    },
    {
      "cell_type": "markdown",
      "metadata": {
        "id": "Uq7uEjQQX7om",
        "colab_type": "text"
      },
      "source": [
        "## Test Data"
      ]
    },
    {
      "cell_type": "code",
      "metadata": {
        "id": "vihrnQ25JIRX",
        "colab_type": "code",
        "colab": {}
      },
      "source": [
        "from scipy.spatial.distance import pdist\n",
        "\n",
        "from math import floor\n",
        "\n",
        "def knn(k, td, training_data):\n",
        "    td = td.to_numpy()\n",
        "    pred = []\n",
        "    no_label_td = training_data.drop('Species', axis=1)\n",
        "    \n",
        "    for new_point in td:\n",
        "        aux  = np.vstack((new_point, no_label_td))\n",
        "        dist =  pdist(aux)[:training_data.shape[0]-1]\n",
        "        \n",
        "        sorted_dist = np.argsort(dist)\n",
        "\n",
        "        neighboors = training_data.iloc[sorted_dist[:k]].Species.to_numpy()          \n",
        "        result = np.bincount(neighboors).argmax()            \n",
        "        pred.append(result)\n",
        "\n",
        "    return(pred)"
      ],
      "execution_count": 0,
      "outputs": []
    },
    {
      "cell_type": "code",
      "metadata": {
        "id": "DpgXG2cDJIRk",
        "colab_type": "code",
        "colab": {}
      },
      "source": [
        "data = pd.read_csv(\"crab.txt\", delimiter=\"\\t\")\n",
        "training = data[:140]\n",
        "test = data[140:]\n",
        "\n",
        "training_labels = training['Species']\n",
        "training_data = training\n",
        "test_data = test.drop('Species', axis=1)\n",
        "test_labels = test['Species']\n",
        "\n",
        "training_data = (training_data - training_data.mean())/training_data.std()\n",
        "test_data = (test_data - test_data.mean())/test_data.std()\n",
        "training_data['Species'] = training['Species']\n",
        "\n",
        "\n",
        "res = []\n",
        "for k in range(1,51):   \n",
        "    \n",
        "    pred = knn(k, test_data, training_data)\n",
        "    acc = len([\"ok\" for i, label in enumerate(test_labels) if label == pred[i]]) / len(test_labels)\n",
        "    err = 1-acc\n",
        "    res.append([acc, err])\n",
        "\n"
      ],
      "execution_count": 0,
      "outputs": []
    },
    {
      "cell_type": "code",
      "metadata": {
        "id": "fuj7nI5uekqY",
        "colab_type": "code",
        "outputId": "963a6f56-ba2f-49a7-a615-94bfcc73f560",
        "colab": {
          "base_uri": "https://localhost:8080/",
          "height": 312
        }
      },
      "source": [
        "plt.plot(range(1,51), res)\n",
        "plt.title('acc and Error in knn for different k values in test dataset')\n",
        "plt.xlabel('k values')\n",
        "plt.ylabel('acc/error')\n",
        "plt.legend(('accuracy','error'))\n",
        "plt.ylim(0,1)\n"
      ],
      "execution_count": 8,
      "outputs": [
        {
          "output_type": "execute_result",
          "data": {
            "text/plain": [
              "(0, 1)"
            ]
          },
          "metadata": {
            "tags": []
          },
          "execution_count": 8
        },
        {
          "output_type": "display_data",
          "data": {
            "image/png": "[encoded data removed]",
            "text/plain": [
              "<Figure size 432x288 with 1 Axes>"
            ]
          },
          "metadata": {
            "tags": []
          }
        }
      ]
    },
    {
      "cell_type": "code",
      "metadata": {
        "id": "gQ8fIUSLYDkM",
        "colab_type": "code",
        "colab": {
          "base_uri": "https://localhost:8080/",
          "height": 316
        },
        "outputId": "5687f531-3cb0-4f9a-d9ab-154e8da433ff"
      },
      "source": [
        "pred = knn(5, test_data, training_data)\n",
        "\n",
        "cm = confusion_matrix_(test_labels.to_numpy().astype(int), np.asarray(pred))\n",
        "sn.heatmap(cm,  annot=True)\n",
        "plt.title('Test Dataset Confusion Matrix for KNN with k=5')\n",
        "cm"
      ],
      "execution_count": 9,
      "outputs": [
        {
          "output_type": "execute_result",
          "data": {
            "text/plain": [
              "array([[17, 11],\n",
              "       [ 6, 26]])"
            ]
          },
          "metadata": {
            "tags": []
          },
          "execution_count": 9
        },
        {
          "output_type": "display_data",
          "data": {
            "image/png": "[encoded data removed]",
            "text/plain": [
              "<Figure size 432x288 with 2 Axes>"
            ]
          },
          "metadata": {
            "tags": []
          }
        }
      ]
    },
    {
      "cell_type": "markdown",
      "metadata": {
        "id": "pEjiDG4wX4Ba",
        "colab_type": "text"
      },
      "source": [
        "## Training Data"
      ]
    },
    {
      "cell_type": "code",
      "metadata": {
        "id": "aBYfKFvZPcqT",
        "colab_type": "code",
        "colab": {
          "base_uri": "https://localhost:8080/",
          "height": 312
        },
        "outputId": "aa056f21-8f01-4c24-ec4b-904bcbc3111d"
      },
      "source": [
        "data = pd.read_csv(\"crab.txt\", delimiter=\"\\t\")\n",
        "training = data[:140]\n",
        "test = data[140:]\n",
        "\n",
        "training_labels = training['Species']\n",
        "training_data = training\n",
        "test_data = test.drop('Species', axis=1)\n",
        "test_labels = test['Species']\n",
        "\n",
        "training_data = (training_data - training_data.mean())/training_data.std()\n",
        "test_data = (test_data - test_data.mean())/test_data.std()\n",
        "training_data['Species'] = training['Species']\n",
        "\n",
        "\n",
        "res = []\n",
        "for k in range(1,51):   \n",
        "    \n",
        "    pred = knn(k, training_data.drop('Species', axis=1), training_data)\n",
        "\n",
        "    acc = len([\"ok\" for i, label in enumerate(training_labels) if label == pred[i]]) / len(training_labels)\n",
        "    err = 1-acc\n",
        "    res.append([acc, err])\n",
        "  \n",
        "plt.plot(range(1,51), res)\n",
        "plt.title('acc and Error in knn for different k values in training dataset')\n",
        "plt.xlabel('k values')\n",
        "plt.ylabel('acc/error')\n",
        "plt.legend(('accuracy','error'))\n",
        "plt.ylim(0,1)\n",
        "\n"
      ],
      "execution_count": 10,
      "outputs": [
        {
          "output_type": "execute_result",
          "data": {
            "text/plain": [
              "(0, 1)"
            ]
          },
          "metadata": {
            "tags": []
          },
          "execution_count": 10
        },
        {
          "output_type": "display_data",
          "data": {
            "image/png": "[encoded data removed]",
            "text/plain": [
              "<Figure size 432x288 with 1 Axes>"
            ]
          },
          "metadata": {
            "tags": []
          }
        }
      ]
    },
    {
      "cell_type": "code",
      "metadata": {
        "id": "6PwXsnTNXqnw",
        "colab_type": "code",
        "colab": {
          "base_uri": "https://localhost:8080/",
          "height": 316
        },
        "outputId": "abc26f18-ac41-4150-f1f6-cdf13639c4a2"
      },
      "source": [
        "pred = knn(5, training_data.drop('Species', axis=1), training_data)\n",
        "\n",
        "cm = confusion_matrix_(training_labels.to_numpy().astype(int), np.asarray(pred))\n",
        "sn.heatmap(cm,  annot=True)\n",
        "plt.title('Training Dataset Confusion Matrix for KNN with k=5')\n",
        "cm"
      ],
      "execution_count": 11,
      "outputs": [
        {
          "output_type": "execute_result",
          "data": {
            "text/plain": [
              "array([[60, 12],\n",
              "       [ 4, 64]])"
            ]
          },
          "metadata": {
            "tags": []
          },
          "execution_count": 11
        },
        {
          "output_type": "display_data",
          "data": {
            "image/png": "[encoded data removed]",
            "text/plain": [
              "<Figure size 432x288 with 2 Axes>"
            ]
          },
          "metadata": {
            "tags": []
          }
        }
      ]
    },
    {
      "cell_type": "markdown",
      "metadata": {
        "id": "ZVvNWv6Wa3Fx",
        "colab_type": "text"
      },
      "source": [
        "## 2.7 - Determine which classifier you would use for the crab data set and give an explanation of your reasoning."
      ]
    },
    {
      "cell_type": "markdown",
      "metadata": {
        "id": "zCNDkstba8PL",
        "colab_type": "text"
      },
      "source": [
        "For this specific dataset I would use the probabilistic generative classifier, because of its prediction power. The reason I believe it performs better than KNN is that it is a small dataset and the multivariative gaussians can describe the dataset better than knn. Having 7 features and only 200 instances may be too sparse for knn."
      ]
    },
    {
      "cell_type": "markdown",
      "metadata": {
        "id": "gwvuEKce7z6s",
        "colab_type": "text"
      },
      "source": [
        "# Problem 3"
      ]
    },
    {
      "cell_type": "markdown",
      "metadata": {
        "id": "ZvbC4a4N7zmu",
        "colab_type": "text"
      },
      "source": [
        "![alt text](https://drive.google.com/uc?id=1CFfs6idMeBwW6qoR3auIw2xIS6hAtLqD)"
      ]
    }
  ]
}